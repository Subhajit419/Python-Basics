{
 "cells": [
  {
   "cell_type": "markdown",
   "metadata": {},
   "source": [
    "# **Python Basics :-**"
   ]
  },
  {
   "cell_type": "markdown",
   "metadata": {},
   "source": [
    "## 1. Python program for factorial of a number"
   ]
  },
  {
   "cell_type": "code",
   "execution_count": 1,
   "metadata": {},
   "outputs": [
    {
     "name": "stdout",
     "output_type": "stream",
     "text": [
      "Enter a number :5\n",
      "Factorial of the 5 is 120\n"
     ]
    }
   ],
   "source": [
    "def factorial(n): \n",
    "    if n==1 or n==0 :\n",
    "        return 1\n",
    "    else :\n",
    "        return n * factorial(n - 1)\n",
    "   \n",
    "num = int(input(\"Enter a number :\")) \n",
    "print(\"Factorial of the\",num,\"is\",factorial(num))   "
   ]
  },
  {
   "cell_type": "markdown",
   "metadata": {},
   "source": [
    "## 2. Python program to print all Prime numbers in an Interval"
   ]
  },
  {
   "cell_type": "code",
   "execution_count": 2,
   "metadata": {},
   "outputs": [
    {
     "name": "stdout",
     "output_type": "stream",
     "text": [
      "Enter lower range: 1\n",
      "Enter upper range: 30\n",
      "All prime numbers between  1 and 30 are listed below :\n",
      "2\n",
      "3\n",
      "5\n",
      "7\n",
      "11\n",
      "13\n",
      "17\n",
      "19\n",
      "23\n",
      "29\n"
     ]
    }
   ],
   "source": [
    "lower = int(input(\"Enter lower range: \"))\n",
    "upper = int(input(\"Enter upper range: \"))\n",
    "\n",
    "print(\"All prime numbers between \",lower,\"and\",upper,\"are listed below :\")\n",
    " \n",
    "for num in range(lower,upper + 1):\n",
    "   if num > 1:  # # All prime numbers are greater than 1\n",
    "       for i in range(2,num):\n",
    "           if (num % i) == 0:\n",
    "               break\n",
    "       else:\n",
    "           print(num)"
   ]
  },
  {
   "cell_type": "markdown",
   "metadata": {},
   "source": [
    "## 3. Python program for Fibonacci numbers"
   ]
  },
  {
   "cell_type": "code",
   "execution_count": 3,
   "metadata": {},
   "outputs": [
    {
     "name": "stdout",
     "output_type": "stream",
     "text": [
      "Please enter a number :9\n",
      "Fibonacci Series for 9 numbers are listed below :\n",
      "0\n",
      "1\n",
      "1\n",
      "2\n",
      "3\n",
      "5\n",
      "8\n",
      "13\n",
      "21\n"
     ]
    }
   ],
   "source": [
    "def fibonacci(n):\n",
    "    a=0\n",
    "    b=1\n",
    "    if n==0 :\n",
    "        return a\n",
    "    elif n==1:\n",
    "        return b\n",
    "    else :\n",
    "        print(a)\n",
    "        print(b)\n",
    "        for i in range(2,n) :\n",
    "            c=a+b\n",
    "            a=b\n",
    "            b=c\n",
    "            print(c)\n",
    "\n",
    "num = int(input(\"Please enter a number :\"))\n",
    "print(\"Fibonacci Series for\",num,\"numbers are listed below :\")\n",
    "fibonacci(num)"
   ]
  },
  {
   "cell_type": "markdown",
   "metadata": {},
   "source": [
    "## 4. Python program for cube sum of first n natural numbers"
   ]
  },
  {
   "cell_type": "code",
   "execution_count": 4,
   "metadata": {},
   "outputs": [
    {
     "name": "stdout",
     "output_type": "stream",
     "text": [
      "Enter a number :5\n",
      "Cube sum of first  5 natural numbers is : 225\n"
     ]
    }
   ],
   "source": [
    "def sum_of_cubes(n):\n",
    "   sum = 0\n",
    "   for i in range(1, n+1):\n",
    "      sum += (i**3)\n",
    "   return sum\n",
    "\n",
    "num = int(input(\"Enter a number :\"))\n",
    "print(\"Cube sum of first \",num,\"natural numbers is :\", sum_of_cubes(num))"
   ]
  },
  {
   "cell_type": "markdown",
   "metadata": {},
   "source": [
    "## 5. Python program to interchange first and last elements in a list"
   ]
  },
  {
   "cell_type": "code",
   "execution_count": 5,
   "metadata": {},
   "outputs": [
    {
     "name": "stdout",
     "output_type": "stream",
     "text": [
      "Enter elements of the list : 12 34 67 89 70\n",
      "The First list is  ['12', '34', '67', '89', '70']\n",
      "After swapping the first and last elements , the list become ['70', '34', '67', '89', '12']\n"
     ]
    }
   ],
   "source": [
    "# List Creation\n",
    "elements= input(\"Enter elements of the list : \")\n",
    "List_1 = elements.split()\n",
    "print(\"The First list is \", List_1)\n",
    "\n",
    "#Swapping of first and last element of the list \n",
    "def swap_list(list) :\n",
    "    size = len(list) \n",
    "    c = list[0] \n",
    "    list[0] = list[size - 1] \n",
    "    list[size - 1] = c\n",
    "      \n",
    "    return list\n",
    "\n",
    "print(\"After swapping the first and last elements , the list become\",swap_list(List_1))"
   ]
  },
  {
   "cell_type": "markdown",
   "metadata": {},
   "source": [
    "## 6. Python program to swap two elements in a list"
   ]
  },
  {
   "cell_type": "code",
   "execution_count": 6,
   "metadata": {},
   "outputs": [
    {
     "name": "stdout",
     "output_type": "stream",
     "text": [
      "Enter elements of the list : 12 32 45 8\n",
      "The First list is  ['12', '32', '45', '8']\n",
      "Enter the 1st position : 1\n",
      "Enter the 1st position : 2\n",
      "After interchanging position of 1 and 2 the list become ['12', '45', '32', '8']\n"
     ]
    }
   ],
   "source": [
    "# List Creation\n",
    "elements= input(\"Enter elements of the list : \")\n",
    "List_1 = elements.split()\n",
    "print(\"The First list is \", List_1)\n",
    "\n",
    "pos1 = int(input(\"Enter the 1st position : \"))\n",
    "pos2 = int(input(\"Enter the 1st position : \"))\n",
    "\n",
    "#Changing the position of two elements of the list \n",
    "def change_position(list, pos1, pos2): \n",
    "      \n",
    "    list[pos1], list[pos2] = list[pos2], list[pos1] \n",
    "    return list\n",
    "\n",
    "print(\"After interchanging position of\",pos1,\"and\",pos2 , \"the list become\",change_position(List_1 , pos1, pos2))"
   ]
  },
  {
   "cell_type": "markdown",
   "metadata": {},
   "source": [
    "## 7. Python program to Multiply all numbers in the list"
   ]
  },
  {
   "cell_type": "code",
   "execution_count": 7,
   "metadata": {},
   "outputs": [
    {
     "name": "stdout",
     "output_type": "stream",
     "text": [
      "Enter elements of the list : 2 3 4 1\n",
      "The First list is  ['2', '3', '4', '1']\n",
      " Multiplication of all the elements present in the list :  24\n"
     ]
    }
   ],
   "source": [
    "# List Creation\n",
    "elements= input(\"Enter elements of the list : \")\n",
    "List_1 = elements.split()\n",
    "print(\"The First list is \", List_1)\n",
    "\n",
    "# Multiplication of all the elements present in the list\n",
    "result = 1\n",
    "for num in List_1:\n",
    "    result *= int(num)\n",
    "print(\" Multiplication of all the elements present in the list : \", result)"
   ]
  },
  {
   "cell_type": "markdown",
   "metadata": {},
   "source": [
    "## 8. Python program to check if element exists in the list"
   ]
  },
  {
   "cell_type": "code",
   "execution_count": 44,
   "metadata": {},
   "outputs": [
    {
     "name": "stdout",
     "output_type": "stream",
     "text": [
      "Enter elements of the list : 12 34 56 71 \n",
      "The First list is  ['12', '34', '56', '71']\n",
      "Enter a element :69\n",
      "Element  doesn't exist\n"
     ]
    }
   ],
   "source": [
    "elements= input(\"Enter elements of the list : \")\n",
    "List_1 = elements.split()\n",
    "print(\"The First list is \", List_1)\n",
    "\n",
    "num = input(\"Enter a element :\")\n",
    "\n",
    "if (num in List_1): \n",
    "    print (\"Element Exists\") \n",
    "else :\n",
    "    print(\"Element  doesn't exist\")"
   ]
  },
  {
   "cell_type": "markdown",
   "metadata": {},
   "source": [
    "## 9. Python program to check if a string is palindrome or not"
   ]
  },
  {
   "cell_type": "code",
   "execution_count": 16,
   "metadata": {},
   "outputs": [
    {
     "name": "stdout",
     "output_type": "stream",
     "text": [
      "Enter a string : subha\n",
      "The string isn't Palindrome\n"
     ]
    }
   ],
   "source": [
    "def palindrome(str): \n",
    "    return str[::-1] \n",
    "\n",
    "str = input(\"Enter a string : \")\n",
    "rev = palindrome(str) \n",
    "  \n",
    "if str==rev : \n",
    "    print(\"The string is Palindrome\") \n",
    "else: \n",
    "    print(\"The string isn't Palindrome\") "
   ]
  },
  {
   "cell_type": "markdown",
   "metadata": {},
   "source": [
    "## 10. Python program to accept the strings which contains all vowels"
   ]
  },
  {
   "cell_type": "code",
   "execution_count": 46,
   "metadata": {},
   "outputs": [
    {
     "name": "stdout",
     "output_type": "stream",
     "text": [
      "Enter a string : Subhajit\n",
      "Check the string is accepted or not :\n",
      "Subhajit: Not accepted\n"
     ]
    }
   ],
   "source": [
    "def check_vowels(string):\n",
    "   vowels = ['A', 'E', 'I', 'O', 'U', 'a', 'e', 'i', 'o', 'u']\n",
    "   for char in string:\n",
    "        if char not in vowels:\n",
    "            print(f\"{string}: Not accepted\")\n",
    "            break\n",
    "        else:\n",
    "            print(f\"{string}: Accepted\")\n",
    "            break\n",
    "\n",
    "str = input(\"Enter a string : \")\n",
    "print(\"Check the string is accepted or not :\")\n",
    "check_vowels(str)"
   ]
  },
  {
   "cell_type": "code",
   "execution_count": null,
   "metadata": {},
   "outputs": [],
   "source": []
  }
 ],
 "metadata": {
  "kernelspec": {
   "display_name": "Python 3",
   "language": "python",
   "name": "python3"
  },
  "language_info": {
   "codemirror_mode": {
    "name": "ipython",
    "version": 3
   },
   "file_extension": ".py",
   "mimetype": "text/x-python",
   "name": "python",
   "nbconvert_exporter": "python",
   "pygments_lexer": "ipython3",
   "version": "3.7.4"
  }
 },
 "nbformat": 4,
 "nbformat_minor": 2
}
